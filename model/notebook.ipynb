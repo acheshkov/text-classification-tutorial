{
  "nbformat": 4,
  "nbformat_minor": 0,
  "metadata": {
    "colab": {
      "name": "Text Classification",
      "version": "0.3.2",
      "provenance": [],
      "toc_visible": true
    },
    "kernelspec": {
      "name": "python3",
      "display_name": "Python 3"
    }
  },
  "cells": [
    {
      "metadata": {
        "id": "dOQeAqJAeSNv",
        "colab_type": "code",
        "outputId": "3cf36180-a6de-4cf7-b905-67163bafb164",
        "colab": {
          "base_uri": "https://localhost:8080/",
          "height": 51
        }
      },
      "cell_type": "code",
      "source": [
        "import pandas as pd\n",
        "import numpy as np\n",
        "import nltk\n",
        "from nltk.corpus import stopwords\n",
        "import re\n",
        "import warnings\n",
        "from joblib import dump, load\n",
        "from typing import List, Any, Dict\n",
        "from sklearn.metrics import classification_report, confusion_matrix\n",
        "from sklearn.base import TransformerMixin\n",
        "from sklearn.feature_extraction.text import CountVectorizer\n",
        "from sklearn.feature_extraction.text import TfidfTransformer\n",
        "from sklearn.naive_bayes import MultinomialNB, BernoulliNB\n",
        "from sklearn.pipeline import Pipeline\n",
        "from sklearn.model_selection import train_test_split\n",
        "from sklearn.model_selection import GridSearchCV\n",
        "from sklearn.linear_model import SGDClassifier\n",
        "from sklearn.decomposition import TruncatedSVD\n",
        "from sklearn.preprocessing import FunctionTransformer\n",
        "from sklearn.feature_selection import SelectFromModel\n",
        "\n",
        "\n",
        "\n",
        "nltk.download('stopwords')\n",
        "def warn(*args, **kwargs):\n",
        "    pass\n",
        "\n",
        "warnings.warn = warn"
      ],
      "execution_count": 158,
      "outputs": [
        {
          "output_type": "stream",
          "text": [
            "[nltk_data] Downloading package stopwords to /root/nltk_data...\n",
            "[nltk_data]   Package stopwords is already up-to-date!\n"
          ],
          "name": "stdout"
        }
      ]
    },
    {
      "metadata": {
        "id": "FJ6o9UoWeoK_",
        "colab_type": "code",
        "outputId": "f0603e31-507a-415d-fb6d-66ae9e2a15fe",
        "colab": {
          "base_uri": "https://localhost:8080/",
          "height": 204
        }
      },
      "cell_type": "code",
      "source": [
        "df = pd.read_csv('./dataset_for_assignment.csv')\n",
        "df.head()"
      ],
      "execution_count": 2,
      "outputs": [
        {
          "output_type": "execute_result",
          "data": {
            "text/html": [
              "<div>\n",
              "<style scoped>\n",
              "    .dataframe tbody tr th:only-of-type {\n",
              "        vertical-align: middle;\n",
              "    }\n",
              "\n",
              "    .dataframe tbody tr th {\n",
              "        vertical-align: top;\n",
              "    }\n",
              "\n",
              "    .dataframe thead th {\n",
              "        text-align: right;\n",
              "    }\n",
              "</style>\n",
              "<table border=\"1\" class=\"dataframe\">\n",
              "  <thead>\n",
              "    <tr style=\"text-align: right;\">\n",
              "      <th></th>\n",
              "      <th>comment_text</th>\n",
              "      <th>target</th>\n",
              "    </tr>\n",
              "  </thead>\n",
              "  <tbody>\n",
              "    <tr>\n",
              "      <th>0</th>\n",
              "      <td>Explanation\\nWhy the edits made under my usern...</td>\n",
              "      <td>0</td>\n",
              "    </tr>\n",
              "    <tr>\n",
              "      <th>1</th>\n",
              "      <td>D'aww! He matches this background colour I'm s...</td>\n",
              "      <td>0</td>\n",
              "    </tr>\n",
              "    <tr>\n",
              "      <th>2</th>\n",
              "      <td>Hey man, I'm really not trying to edit war. It...</td>\n",
              "      <td>0</td>\n",
              "    </tr>\n",
              "    <tr>\n",
              "      <th>3</th>\n",
              "      <td>\"\\nMore\\nI can't make any real suggestions on ...</td>\n",
              "      <td>0</td>\n",
              "    </tr>\n",
              "    <tr>\n",
              "      <th>4</th>\n",
              "      <td>You, sir, are my hero. Any chance you remember...</td>\n",
              "      <td>0</td>\n",
              "    </tr>\n",
              "  </tbody>\n",
              "</table>\n",
              "</div>"
            ],
            "text/plain": [
              "                                        comment_text  target\n",
              "0  Explanation\\nWhy the edits made under my usern...       0\n",
              "1  D'aww! He matches this background colour I'm s...       0\n",
              "2  Hey man, I'm really not trying to edit war. It...       0\n",
              "3  \"\\nMore\\nI can't make any real suggestions on ...       0\n",
              "4  You, sir, are my hero. Any chance you remember...       0"
            ]
          },
          "metadata": {
            "tags": []
          },
          "execution_count": 2
        }
      ]
    },
    {
      "metadata": {
        "id": "e6upJ7zKgdrv",
        "colab_type": "code",
        "outputId": "7af3e296-deb2-4602-a614-77347d84714c",
        "colab": {
          "base_uri": "https://localhost:8080/",
          "height": 51
        }
      },
      "cell_type": "code",
      "source": [
        "groups = df.groupby(['target']).agg({'target': 'count'}).to_dict('index')\n",
        "print(\"Examples of class '1' is\", groups[1]['target'], \". Examples of class '0' is\", groups[0]['target'])\n",
        "print(\"Ratio of classes: \", groups[1]['target'] / groups[0]['target'])"
      ],
      "execution_count": 160,
      "outputs": [
        {
          "output_type": "stream",
          "text": [
            "Examples of class '1' is 16225 . Examples of class '0' is 143346\n",
            "Ratio of classes:  0.1131876717871444\n"
          ],
          "name": "stdout"
        }
      ]
    },
    {
      "metadata": {
        "id": "BITu1tdI2ZLm",
        "colab_type": "code",
        "outputId": "bd330799-e73d-4812-9380-5c17a9555001",
        "colab": {
          "base_uri": "https://localhost:8080/",
          "height": 204
        }
      },
      "cell_type": "code",
      "source": [
        "REPLACE_BY_SPACE_RE = re.compile('[/(){}\\[\\]\\|@,;\\\\n]')\n",
        "BAD_SYMBOLS_RE = re.compile('[^0-9a-z #+_]')\n",
        "STOPWORDS = set(stopwords.words('english'))\n",
        "\n",
        "def loss_0_1(model, xs: List[str], ys: List[int]):\n",
        "  predicted = model.predict(xs)\n",
        "  return np.mean(predicted == ys)\n",
        "\n",
        "\n",
        "def clean_text(text: str) -> str:\n",
        "    '''Clean text'''\n",
        "       \n",
        "    text = text.lower() # lowercase text\n",
        "    text = REPLACE_BY_SPACE_RE.sub(' ', text)\n",
        "    text = BAD_SYMBOLS_RE.sub('', text)\n",
        "    text = ' '.join(word for word in text.split() if word not in STOPWORDS)\n",
        "    return text\n",
        "    \n",
        "df['comment_text'] = df['comment_text'].apply(clean_text)\n",
        "df.head()\n"
      ],
      "execution_count": 4,
      "outputs": [
        {
          "output_type": "execute_result",
          "data": {
            "text/html": [
              "<div>\n",
              "<style scoped>\n",
              "    .dataframe tbody tr th:only-of-type {\n",
              "        vertical-align: middle;\n",
              "    }\n",
              "\n",
              "    .dataframe tbody tr th {\n",
              "        vertical-align: top;\n",
              "    }\n",
              "\n",
              "    .dataframe thead th {\n",
              "        text-align: right;\n",
              "    }\n",
              "</style>\n",
              "<table border=\"1\" class=\"dataframe\">\n",
              "  <thead>\n",
              "    <tr style=\"text-align: right;\">\n",
              "      <th></th>\n",
              "      <th>comment_text</th>\n",
              "      <th>target</th>\n",
              "    </tr>\n",
              "  </thead>\n",
              "  <tbody>\n",
              "    <tr>\n",
              "      <th>0</th>\n",
              "      <td>explanation edits made username hardcore metal...</td>\n",
              "      <td>0</td>\n",
              "    </tr>\n",
              "    <tr>\n",
              "      <th>1</th>\n",
              "      <td>daww matches background colour im seemingly st...</td>\n",
              "      <td>0</td>\n",
              "    </tr>\n",
              "    <tr>\n",
              "      <th>2</th>\n",
              "      <td>hey man im really trying edit war guy constant...</td>\n",
              "      <td>0</td>\n",
              "    </tr>\n",
              "    <tr>\n",
              "      <th>3</th>\n",
              "      <td>cant make real suggestions improvement wondere...</td>\n",
              "      <td>0</td>\n",
              "    </tr>\n",
              "    <tr>\n",
              "      <th>4</th>\n",
              "      <td>sir hero chance remember page thats</td>\n",
              "      <td>0</td>\n",
              "    </tr>\n",
              "  </tbody>\n",
              "</table>\n",
              "</div>"
            ],
            "text/plain": [
              "                                        comment_text  target\n",
              "0  explanation edits made username hardcore metal...       0\n",
              "1  daww matches background colour im seemingly st...       0\n",
              "2  hey man im really trying edit war guy constant...       0\n",
              "3  cant make real suggestions improvement wondere...       0\n",
              "4                sir hero chance remember page thats       0"
            ]
          },
          "metadata": {
            "tags": []
          },
          "execution_count": 4
        }
      ]
    },
    {
      "metadata": {
        "id": "zLR30j_1ieBf",
        "colab_type": "text"
      },
      "cell_type": "markdown",
      "source": [
        "## Dataset Undersampling\n",
        "\n",
        "---\n",
        "\n"
      ]
    },
    {
      "metadata": {
        "id": "xcdMk7Pf4q7g",
        "colab_type": "code",
        "colab": {}
      },
      "cell_type": "code",
      "source": [
        "indexies_class_0 = df[df.target == 0].index.tolist()\n",
        "indexies_class_1 = df[df.target == 1].index.tolist()\n",
        "random_indices_class_0 = np.random.choice(indexies_class_0, len(indexies_class_1), replace=False).tolist()\n",
        "\n",
        "df_balanced = df.loc[random_indices_class_0 + indexies_class_1]\n",
        "df_other_class_0 = df.loc[~df.index.isin(random_indices_class_0 + indexies_class_1)]\n",
        "#df_balanced.groupby(['target']).agg({'target': 'count'})\n",
        "\n",
        "df_train, df_test = train_test_split(df, shuffle=True, test_size=0.15)\n",
        "df_train_b, df_test_b = train_test_split(df_balanced, shuffle=True, test_size=0.15)\n",
        "\n",
        "X = df_train.comment_text.tolist()\n",
        "Y = df_train.target.tolist()\n",
        "Xb = df_train_b.comment_text.tolist()\n",
        "Yb = df_train_b.target.tolist()\n",
        "\n",
        "  \n",
        "def mk_clf_report(\n",
        "    pipeline, \n",
        "    parameters, \n",
        "    df_train, \n",
        "    df_test, \n",
        "    df_other_class_0=None\n",
        "  ):\n",
        "  \n",
        "  X = df_train.comment_text.tolist()\n",
        "  Y = df_train.target.tolist()\n",
        "  \n",
        "  gs = GridSearchCV(pipeline, parameters, cv=5, iid=False, n_jobs=-1)\n",
        "  gs = gs.fit(X, Y)\n",
        "  \n",
        "  # test\n",
        "  predicted = gs.predict(df_test.comment_text.tolist())\n",
        "  report = classification_report(\n",
        "      y_true=df_test.target.tolist(), \n",
        "      y_pred=predicted\n",
        "  )\n",
        "  if df_other_class_0 is not None:\n",
        "    loss = loss_0_1(\n",
        "        gs,\n",
        "        df_other_class_0.comment_text.tolist(), \n",
        "        df_other_class_0.target.tolist()\n",
        "    )\n",
        "  else:\n",
        "    loss = None\n",
        "    \n",
        "  return gs, report, loss\n",
        "  \n"
      ],
      "execution_count": 0,
      "outputs": []
    },
    {
      "metadata": {
        "id": "CbAdUt8ildJ3",
        "colab_type": "text"
      },
      "cell_type": "markdown",
      "source": [
        "# Multinomial Naive Bayes\n",
        "\n",
        "\n",
        "---\n",
        "\n"
      ]
    },
    {
      "metadata": {
        "id": "M6fzO3V55I59",
        "colab_type": "code",
        "colab": {}
      },
      "cell_type": "code",
      "source": [
        "ppl = Pipeline([\n",
        "    ('vect', CountVectorizer()),\n",
        "    ('tfidf', TfidfTransformer(use_idf=False)),\n",
        "    ('clf', MultinomialNB(fit_prior=False)),\n",
        "])\n",
        "\n",
        "parameters = {\n",
        "  'tfidf__use_idf': [True, False],\n",
        "  'clf__fit_prior': [True, False]\n",
        "}\n"
      ],
      "execution_count": 0,
      "outputs": []
    },
    {
      "metadata": {
        "id": "Rkpe8IuFPlgP",
        "colab_type": "text"
      },
      "cell_type": "markdown",
      "source": [
        "###  Imbalanced dataset"
      ]
    },
    {
      "metadata": {
        "id": "F2Wwl6J1P_GU",
        "colab_type": "code",
        "colab": {
          "base_uri": "https://localhost:8080/",
          "height": 187
        },
        "outputId": "b135951f-8328-4c10-9f9a-c1724c897dbd"
      },
      "cell_type": "code",
      "source": [
        "gs, report, loss = mk_clf_report(ppl, parameters, df_train, df_test)\n",
        "print(report)\n",
        "print(f'Best params:', gs.best_params_)"
      ],
      "execution_count": 162,
      "outputs": [
        {
          "output_type": "stream",
          "text": [
            "              precision    recall  f1-score   support\n",
            "\n",
            "           0       0.94      0.99      0.96     21473\n",
            "           1       0.82      0.43      0.57      2463\n",
            "\n",
            "   micro avg       0.93      0.93      0.93     23936\n",
            "   macro avg       0.88      0.71      0.77     23936\n",
            "weighted avg       0.93      0.93      0.92     23936\n",
            "\n",
            "Best params: {'clf__fit_prior': False, 'tfidf__use_idf': True}\n"
          ],
          "name": "stdout"
        }
      ]
    },
    {
      "metadata": {
        "id": "smypIxxVPvso",
        "colab_type": "text"
      },
      "cell_type": "markdown",
      "source": [
        "### Balanced dataset"
      ]
    },
    {
      "metadata": {
        "id": "6LwknIUoQAOO",
        "colab_type": "code",
        "colab": {
          "base_uri": "https://localhost:8080/",
          "height": 204
        },
        "outputId": "6046ea83-2d54-4498-f1d1-3895fcfa9f5d"
      },
      "cell_type": "code",
      "source": [
        "gs, report, loss = mk_clf_report(ppl, parameters, df_train_b, df_test_b, df_other_class_0)\n",
        "print(report)\n",
        "print('Best params:', gs.best_params_)\n",
        "print('0-1 loss for sample of only class \"0\":', loss)"
      ],
      "execution_count": 163,
      "outputs": [
        {
          "output_type": "stream",
          "text": [
            "              precision    recall  f1-score   support\n",
            "\n",
            "           0       0.87      0.92      0.89      2436\n",
            "           1       0.91      0.86      0.89      2432\n",
            "\n",
            "   micro avg       0.89      0.89      0.89      4868\n",
            "   macro avg       0.89      0.89      0.89      4868\n",
            "weighted avg       0.89      0.89      0.89      4868\n",
            "\n",
            "Best params: {'clf__fit_prior': False, 'tfidf__use_idf': False}\n",
            "0-1 loss for sample of only class \"0\": 0.9069783906671597\n"
          ],
          "name": "stdout"
        }
      ]
    },
    {
      "metadata": {
        "id": "x4E6Crz_2efs",
        "colab_type": "text"
      },
      "cell_type": "markdown",
      "source": [
        "# Bernuolli Naive Bayes\n",
        "---"
      ]
    },
    {
      "metadata": {
        "id": "z4VOBLftmKsL",
        "colab_type": "code",
        "colab": {}
      },
      "cell_type": "code",
      "source": [
        "ppl = Pipeline([\n",
        "    ('vect', CountVectorizer()),\n",
        "    ('tfidf', TfidfTransformer(use_idf=False)),\n",
        "    ('clf', BernoulliNB(binarize=0.0, fit_prior=True)),\n",
        "])\n",
        "\n",
        "parameters = {\n",
        "  'tfidf__use_idf': [True, False],\n",
        "  'clf__fit_prior': [True, False]\n",
        "}\n",
        "\n"
      ],
      "execution_count": 0,
      "outputs": []
    },
    {
      "metadata": {
        "id": "T23kr0eYRvdu",
        "colab_type": "text"
      },
      "cell_type": "markdown",
      "source": [
        "###  Imbalanced dataset"
      ]
    },
    {
      "metadata": {
        "id": "cl_RGbV9Rw11",
        "colab_type": "code",
        "colab": {
          "base_uri": "https://localhost:8080/",
          "height": 187
        },
        "outputId": "39889ba1-0d80-480b-c2a8-d30539b5bf99"
      },
      "cell_type": "code",
      "source": [
        "gs, report, loss = mk_clf_report(ppl, parameters, df_train, df_test)\n",
        "print(report)\n",
        "print('Best params:', gs.best_params_)"
      ],
      "execution_count": 165,
      "outputs": [
        {
          "output_type": "stream",
          "text": [
            "              precision    recall  f1-score   support\n",
            "\n",
            "           0       0.95      0.99      0.97     21473\n",
            "           1       0.88      0.54      0.67      2463\n",
            "\n",
            "   micro avg       0.95      0.95      0.95     23936\n",
            "   macro avg       0.91      0.77      0.82     23936\n",
            "weighted avg       0.94      0.95      0.94     23936\n",
            "\n",
            "Best params: {'clf__fit_prior': False, 'tfidf__use_idf': True}\n"
          ],
          "name": "stdout"
        }
      ]
    },
    {
      "metadata": {
        "id": "bHV8KxoMRw_u",
        "colab_type": "text"
      },
      "cell_type": "markdown",
      "source": [
        "###  Balanced dataset"
      ]
    },
    {
      "metadata": {
        "id": "_9Y8X2ZgRyVT",
        "colab_type": "code",
        "colab": {
          "base_uri": "https://localhost:8080/",
          "height": 204
        },
        "outputId": "81035901-0d37-4a55-909b-380f86a7d24e"
      },
      "cell_type": "code",
      "source": [
        "gs, report, loss = mk_clf_report(ppl, parameters, df_train_b, df_test_b, df_other_class_0)\n",
        "print(report)\n",
        "print('Best params:', gs.best_params_)\n",
        "print('0-1 loss for sample of only class \"0\":', loss)"
      ],
      "execution_count": 166,
      "outputs": [
        {
          "output_type": "stream",
          "text": [
            "              precision    recall  f1-score   support\n",
            "\n",
            "           0       0.89      0.52      0.66      2436\n",
            "           1       0.66      0.94      0.77      2432\n",
            "\n",
            "   micro avg       0.73      0.73      0.73      4868\n",
            "   macro avg       0.78      0.73      0.72      4868\n",
            "weighted avg       0.78      0.73      0.72      4868\n",
            "\n",
            "Best params: {'clf__fit_prior': True, 'tfidf__use_idf': True}\n",
            "0-1 loss for sample of only class \"0\": 0.5258297212891654\n"
          ],
          "name": "stdout"
        }
      ]
    },
    {
      "metadata": {
        "id": "-9q7IznKqUm-",
        "colab_type": "text"
      },
      "cell_type": "markdown",
      "source": [
        "# SVM & Logistic Regression\n",
        "---"
      ]
    },
    {
      "metadata": {
        "id": "F5eeKGF1Ano6",
        "colab_type": "code",
        "colab": {}
      },
      "cell_type": "code",
      "source": [
        "ppl = Pipeline([\n",
        "    ('l0', CountVectorizer()),\n",
        "    ('l1', TfidfTransformer(use_idf=True)),\n",
        "    ('l3', SGDClassifier(\n",
        "        loss='hinge', \n",
        "        penalty='l2', \n",
        "        alpha=1e-5, \n",
        "        random_state=17, \n",
        "        max_iter=10, \n",
        "        tol=None,\n",
        "        early_stopping=True,\n",
        "        #validation_fraction=0.2\n",
        "    )),\n",
        "])\n",
        "parameters = {\n",
        "  'l1__use_idf': [True],\n",
        "  'l3__alpha': [1e-5, 1e-4],\n",
        "  'l3__loss': ['hinge', 'log'],\n",
        "  'l3__penalty': ['l2', 'l1']\n",
        "}\n"
      ],
      "execution_count": 0,
      "outputs": []
    },
    {
      "metadata": {
        "id": "zPoAPZJVSNei",
        "colab_type": "text"
      },
      "cell_type": "markdown",
      "source": [
        "###  Imbalanced dataset"
      ]
    },
    {
      "metadata": {
        "id": "OE_SlhoDSONy",
        "colab_type": "code",
        "colab": {
          "base_uri": "https://localhost:8080/",
          "height": 258
        },
        "outputId": "ab16f50a-81ad-4ff2-aa7b-ea8602861ce5"
      },
      "cell_type": "code",
      "source": [
        "gs, report, loss = mk_clf_report(ppl, parameters, df_train, df_test)\n",
        "print(report)\n",
        "print('Best params:', gs.best_params_)\n",
        "dump(gs.best_estimator_, 'SGDClassifier.joblib')"
      ],
      "execution_count": 156,
      "outputs": [
        {
          "output_type": "stream",
          "text": [
            "/usr/local/lib/python3.6/dist-packages/sklearn/linear_model/stochastic_gradient.py:183: FutureWarning: max_iter and tol parameters have been added in SGDClassifier in 0.19. If max_iter is set but tol is left unset, the default value for tol in 0.19 and 0.20 will be None (which is equivalent to -infinity, so it has no effect) but will change in 0.21 to 1e-3. Specify tol to silence this warning.\n",
            "  FutureWarning)\n"
          ],
          "name": "stderr"
        },
        {
          "output_type": "stream",
          "text": [
            "              precision    recall  f1-score   support\n",
            "\n",
            "           0       0.96      0.99      0.98     21473\n",
            "           1       0.91      0.66      0.77      2463\n",
            "\n",
            "   micro avg       0.96      0.96      0.96     23936\n",
            "   macro avg       0.94      0.83      0.87     23936\n",
            "weighted avg       0.96      0.96      0.96     23936\n",
            "\n",
            "Best params: {'l1__use_idf': True, 'l3__alpha': 1e-05, 'l3__loss': 'hinge', 'l3__penalty': 'l2'}\n"
          ],
          "name": "stdout"
        },
        {
          "output_type": "execute_result",
          "data": {
            "text/plain": [
              "['SGDClassifier.joblib']"
            ]
          },
          "metadata": {
            "tags": []
          },
          "execution_count": 156
        }
      ]
    },
    {
      "metadata": {
        "id": "fi_qOcRQSOY0",
        "colab_type": "text"
      },
      "cell_type": "markdown",
      "source": [
        "###  Balanced dataset"
      ]
    },
    {
      "metadata": {
        "id": "O09Of5BD2tsQ",
        "colab_type": "code",
        "colab": {
          "base_uri": "https://localhost:8080/",
          "height": 221
        },
        "outputId": "9e644563-a2a9-49c5-f048-988e19f2db94"
      },
      "cell_type": "code",
      "source": [
        "gs, report, loss = mk_clf_report(ppl, parameters, df_train_b, df_test_b, df_other_class_0)\n",
        "print(report)\n",
        "print('Best params:', gs.best_params_)\n",
        "print('0-1 loss for sample of only class \"0\":', loss)\n",
        "\n",
        "dump(gs.best_estimator_, 'SGDClassifier_balanced.joblib')\n"
      ],
      "execution_count": 159,
      "outputs": [
        {
          "output_type": "stream",
          "text": [
            "              precision    recall  f1-score   support\n",
            "\n",
            "           0       0.89      0.93      0.91      2436\n",
            "           1       0.93      0.88      0.90      2432\n",
            "\n",
            "   micro avg       0.90      0.90      0.90      4868\n",
            "   macro avg       0.91      0.90      0.90      4868\n",
            "weighted avg       0.91      0.90      0.90      4868\n",
            "\n",
            "Best params: {'l1__use_idf': True, 'l3__alpha': 1e-05, 'l3__loss': 'log', 'l3__penalty': 'l1'}\n",
            "0-1 loss for sample of only class \"0\": 0.9271638832293642\n"
          ],
          "name": "stdout"
        },
        {
          "output_type": "execute_result",
          "data": {
            "text/plain": [
              "['SGDClassifier_balanced.joblib']"
            ]
          },
          "metadata": {
            "tags": []
          },
          "execution_count": 159
        }
      ]
    }
  ]
}