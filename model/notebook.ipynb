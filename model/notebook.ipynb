{
  "nbformat": 4,
  "nbformat_minor": 0,
  "metadata": {
    "colab": {
      "name": "Text Classification",
      "version": "0.3.2",
      "provenance": [],
      "toc_visible": true
    },
    "kernelspec": {
      "name": "python3",
      "display_name": "Python 3"
    }
  },
  "cells": [
    {
      "metadata": {
        "id": "dOQeAqJAeSNv",
        "colab_type": "code",
        "outputId": "6a942f0f-b9dc-4278-d4c7-f92b5cc248a9",
        "colab": {
          "base_uri": "https://localhost:8080/",
          "height": 51
        }
      },
      "cell_type": "code",
      "source": [
        "%matplotlib inline\n",
        "\n",
        "import pandas as pd\n",
        "import numpy as np\n",
        "import nltk\n",
        "from nltk.corpus import stopwords\n",
        "import re\n",
        "import warnings\n",
        "from joblib import dump, load\n",
        "from typing import List, Any, Dict\n",
        "from sklearn.metrics import classification_report, confusion_matrix\n",
        "from sklearn.base import TransformerMixin\n",
        "from sklearn.feature_extraction.text import CountVectorizer\n",
        "from sklearn.feature_extraction.text import TfidfTransformer\n",
        "from sklearn.naive_bayes import MultinomialNB, BernoulliNB\n",
        "from sklearn.pipeline import Pipeline\n",
        "from sklearn.model_selection import train_test_split\n",
        "from sklearn.model_selection import GridSearchCV\n",
        "from sklearn.linear_model import SGDClassifier\n",
        "from sklearn.decomposition import TruncatedSVD\n",
        "from sklearn.preprocessing import FunctionTransformer\n",
        "from sklearn.feature_selection import SelectFromModel\n",
        "import matplotlib.pyplot as plt\n",
        "\n",
        "\n",
        "\n",
        "\n",
        "nltk.download('stopwords')\n",
        "def warn(*args, **kwargs):\n",
        "    pass\n",
        "\n",
        "warnings.warn = warn"
      ],
      "execution_count": 27,
      "outputs": [
        {
          "output_type": "stream",
          "text": [
            "[nltk_data] Downloading package stopwords to /root/nltk_data...\n",
            "[nltk_data]   Package stopwords is already up-to-date!\n"
          ],
          "name": "stdout"
        }
      ]
    },
    {
      "metadata": {
        "id": "OF3v57a4teQC",
        "colab_type": "text"
      },
      "cell_type": "markdown",
      "source": [
        "Load dataset. You can use your own"
      ]
    },
    {
      "metadata": {
        "id": "FJ6o9UoWeoK_",
        "colab_type": "code",
        "outputId": "e7fa46a1-b634-4c38-c85d-85df66be56fc",
        "colab": {
          "base_uri": "https://localhost:8080/",
          "height": 204
        }
      },
      "cell_type": "code",
      "source": [
        "df = pd.read_csv('./dataset_for_assignment.csv')\n",
        "df.head()"
      ],
      "execution_count": 18,
      "outputs": [
        {
          "output_type": "execute_result",
          "data": {
            "text/html": [
              "<div>\n",
              "<style scoped>\n",
              "    .dataframe tbody tr th:only-of-type {\n",
              "        vertical-align: middle;\n",
              "    }\n",
              "\n",
              "    .dataframe tbody tr th {\n",
              "        vertical-align: top;\n",
              "    }\n",
              "\n",
              "    .dataframe thead th {\n",
              "        text-align: right;\n",
              "    }\n",
              "</style>\n",
              "<table border=\"1\" class=\"dataframe\">\n",
              "  <thead>\n",
              "    <tr style=\"text-align: right;\">\n",
              "      <th></th>\n",
              "      <th>comment_text</th>\n",
              "      <th>target</th>\n",
              "    </tr>\n",
              "  </thead>\n",
              "  <tbody>\n",
              "    <tr>\n",
              "      <th>0</th>\n",
              "      <td>Explanation\\nWhy the edits made under my usern...</td>\n",
              "      <td>0</td>\n",
              "    </tr>\n",
              "    <tr>\n",
              "      <th>1</th>\n",
              "      <td>D'aww! He matches this background colour I'm s...</td>\n",
              "      <td>0</td>\n",
              "    </tr>\n",
              "    <tr>\n",
              "      <th>2</th>\n",
              "      <td>Hey man, I'm really not trying to edit war. It...</td>\n",
              "      <td>0</td>\n",
              "    </tr>\n",
              "    <tr>\n",
              "      <th>3</th>\n",
              "      <td>\"\\nMore\\nI can't make any real suggestions on ...</td>\n",
              "      <td>0</td>\n",
              "    </tr>\n",
              "    <tr>\n",
              "      <th>4</th>\n",
              "      <td>You, sir, are my hero. Any chance you remember...</td>\n",
              "      <td>0</td>\n",
              "    </tr>\n",
              "  </tbody>\n",
              "</table>\n",
              "</div>"
            ],
            "text/plain": [
              "                                        comment_text  target\n",
              "0  Explanation\\nWhy the edits made under my usern...       0\n",
              "1  D'aww! He matches this background colour I'm s...       0\n",
              "2  Hey man, I'm really not trying to edit war. It...       0\n",
              "3  \"\\nMore\\nI can't make any real suggestions on ...       0\n",
              "4  You, sir, are my hero. Any chance you remember...       0"
            ]
          },
          "metadata": {
            "tags": []
          },
          "execution_count": 18
        }
      ]
    },
    {
      "metadata": {
        "id": "e6upJ7zKgdrv",
        "colab_type": "code",
        "outputId": "01148417-9e3e-4166-d013-32f651825fc6",
        "colab": {
          "base_uri": "https://localhost:8080/",
          "height": 310
        }
      },
      "cell_type": "code",
      "source": [
        "groups = df.groupby(['target']).agg({'target': 'count'}).to_dict('index')\n",
        "print(\"Examples of class '1' is\", groups[1]['target'], \". Examples of class '0' is\", groups[0]['target'])\n",
        "print(\"Ratio of classes: \", groups[1]['target'] / groups[0]['target'])\n",
        "df.target.value_counts().plot(kind='bar', title='Classes ratio in original dataset');"
      ],
      "execution_count": 19,
      "outputs": [
        {
          "output_type": "stream",
          "text": [
            "Examples of class '1' is 16225 . Examples of class '0' is 143346\n",
            "Ratio of classes:  0.1131876717871444\n"
          ],
          "name": "stdout"
        },
        {
          "output_type": "display_data",
          "data": {
            "image/png": "[encoded data removed]",
            "text/plain": [
              "<Figure size 432x288 with 1 Axes>"
            ]
          },
          "metadata": {
            "tags": []
          }
        }
      ]
    },
    {
      "metadata": {
        "id": "G_XqbIufY1Gy",
        "colab_type": "text"
      },
      "cell_type": "markdown",
      "source": [
        "# Text pre-processing"
      ]
    },
    {
      "metadata": {
        "id": "BITu1tdI2ZLm",
        "colab_type": "code",
        "outputId": "3f71849a-1de2-48e4-c0f5-a9214640578c",
        "colab": {
          "base_uri": "https://localhost:8080/",
          "height": 204
        }
      },
      "cell_type": "code",
      "source": [
        "REPLACE_BY_SPACE_RE = re.compile('[/(){}\\[\\]\\|@,;\\\\n]')\n",
        "BAD_SYMBOLS_RE = re.compile('[^0-9a-z #+_]')\n",
        "STOPWORDS = set(stopwords.words('english'))\n",
        "\n",
        "def loss_0_1(model, xs: List[str], ys: List[int]):\n",
        "  predicted = model.predict(xs)\n",
        "  return np.mean(predicted == ys)\n",
        "\n",
        "\n",
        "def clean_text(text: str) -> str:\n",
        "    '''Clean text'''\n",
        "       \n",
        "    text = text.lower() # lowercase text\n",
        "    text = REPLACE_BY_SPACE_RE.sub(' ', text)\n",
        "    text = BAD_SYMBOLS_RE.sub('', text)\n",
        "    text = ' '.join(word for word in text.split() if word not in STOPWORDS)\n",
        "    return text\n",
        "    \n",
        "df['comment_text'] = df['comment_text'].apply(clean_text)\n",
        "df.head()\n"
      ],
      "execution_count": 20,
      "outputs": [
        {
          "output_type": "execute_result",
          "data": {
            "text/html": [
              "<div>\n",
              "<style scoped>\n",
              "    .dataframe tbody tr th:only-of-type {\n",
              "        vertical-align: middle;\n",
              "    }\n",
              "\n",
              "    .dataframe tbody tr th {\n",
              "        vertical-align: top;\n",
              "    }\n",
              "\n",
              "    .dataframe thead th {\n",
              "        text-align: right;\n",
              "    }\n",
              "</style>\n",
              "<table border=\"1\" class=\"dataframe\">\n",
              "  <thead>\n",
              "    <tr style=\"text-align: right;\">\n",
              "      <th></th>\n",
              "      <th>comment_text</th>\n",
              "      <th>target</th>\n",
              "    </tr>\n",
              "  </thead>\n",
              "  <tbody>\n",
              "    <tr>\n",
              "      <th>0</th>\n",
              "      <td>explanation edits made username hardcore metal...</td>\n",
              "      <td>0</td>\n",
              "    </tr>\n",
              "    <tr>\n",
              "      <th>1</th>\n",
              "      <td>daww matches background colour im seemingly st...</td>\n",
              "      <td>0</td>\n",
              "    </tr>\n",
              "    <tr>\n",
              "      <th>2</th>\n",
              "      <td>hey man im really trying edit war guy constant...</td>\n",
              "      <td>0</td>\n",
              "    </tr>\n",
              "    <tr>\n",
              "      <th>3</th>\n",
              "      <td>cant make real suggestions improvement wondere...</td>\n",
              "      <td>0</td>\n",
              "    </tr>\n",
              "    <tr>\n",
              "      <th>4</th>\n",
              "      <td>sir hero chance remember page thats</td>\n",
              "      <td>0</td>\n",
              "    </tr>\n",
              "  </tbody>\n",
              "</table>\n",
              "</div>"
            ],
            "text/plain": [
              "                                        comment_text  target\n",
              "0  explanation edits made username hardcore metal...       0\n",
              "1  daww matches background colour im seemingly st...       0\n",
              "2  hey man im really trying edit war guy constant...       0\n",
              "3  cant make real suggestions improvement wondere...       0\n",
              "4                sir hero chance remember page thats       0"
            ]
          },
          "metadata": {
            "tags": []
          },
          "execution_count": 20
        }
      ]
    },
    {
      "metadata": {
        "id": "nltHxG1UghlJ",
        "colab_type": "text"
      },
      "cell_type": "markdown",
      "source": [
        "### All experements bellow we will do for:\n",
        "\n",
        "\n",
        "1.   original dataset (imbalanced)\n",
        "2.   undersampled\n",
        "3.   oversampled\n",
        "\n"
      ]
    },
    {
      "metadata": {
        "id": "zLR30j_1ieBf",
        "colab_type": "text"
      },
      "cell_type": "markdown",
      "source": [
        "## Dataset Undersampling\n",
        "\n",
        "---\n",
        "\n"
      ]
    },
    {
      "metadata": {
        "id": "xcdMk7Pf4q7g",
        "colab_type": "code",
        "outputId": "d2d9ee52-e204-45c6-98f6-df81ce52a7c4",
        "colab": {
          "base_uri": "https://localhost:8080/",
          "height": 276
        }
      },
      "cell_type": "code",
      "source": [
        "# undersampling\n",
        "indexies_class_0 = df[df.target == 0].index.tolist()\n",
        "indexies_class_1 = df[df.target == 1].index.tolist()\n",
        "random_indices_class_0 = np.random.choice(indexies_class_0, len(indexies_class_1), replace=False).tolist()\n",
        "df_balanced_under = df.loc[random_indices_class_0 + indexies_class_1]\n",
        "\n",
        "# oversampling\n",
        "df_class_0 = df[df.target == 0]\n",
        "df_class_1_over = df[df.target == 1].sample(len(df_class_0), replace=True)\n",
        "df_balanced_over = pd.concat([df_class_0, df_class_1_over], axis=0)\n",
        "\n",
        "\n",
        "df_train, df_test = train_test_split(df, shuffle=True, test_size=0.15)\n",
        "df_train_under, df_test_under = train_test_split(df_balanced_under, shuffle=True, test_size=0.15)\n",
        "df_train_over, df_test_over = train_test_split(df_balanced_over, shuffle=True, test_size=0.15)\n",
        "\n",
        "X = df_train.comment_text.tolist()\n",
        "Y = df_train.target.tolist()\n",
        "Xb = df_train_under.comment_text.tolist()\n",
        "Yb = df_train_under.target.tolist()\n",
        "Xo = df_train_over.comment_text.tolist()\n",
        "Yo = df_train_over.target.tolist()\n",
        "\n",
        "  \n",
        "fig, axes = plt.subplots(ncols=2, figsize=(10, 4))\n",
        "df_balanced_under.target.value_counts().plot(kind='bar', title='Classes ratio in undersampled dataset', ax=axes[0])\n",
        "df_balanced_over.target.value_counts().plot(kind='bar', title='Classes ratio in oversampled dataset', ax=axes[1])\n",
        "  \n",
        "def mk_clf_report(\n",
        "    pipeline: Pipeline, \n",
        "    parameters: Dict[str, Any], \n",
        "    df_train: pd.DataFrame, \n",
        "    df_test: pd.DataFrame, \n",
        "    df_other_class_0: pd.DataFrame=None\n",
        "):\n",
        "  \n",
        "  X = df_train.comment_text.tolist()\n",
        "  Y = df_train.target.tolist()\n",
        "  \n",
        "  gs = GridSearchCV(pipeline, parameters, cv=5, iid=False, n_jobs=-1)\n",
        "  gs = gs.fit(X, Y)\n",
        "  \n",
        "  # test\n",
        "  predicted = gs.predict(df_test.comment_text.tolist())\n",
        "  report = classification_report(\n",
        "      y_true=df_test.target.tolist(), \n",
        "      y_pred=predicted\n",
        "  )\n",
        "#   if df_other_class_0 is not None:\n",
        "#     loss = loss_0_1(\n",
        "#         gs,\n",
        "#         df_other_class_0.comment_text.tolist(), \n",
        "#         df_other_class_0.target.tolist()\n",
        "#     )\n",
        "#   else:\n",
        "#     loss = None\n",
        "    \n",
        "  return gs, report #, loss\n",
        "  \n"
      ],
      "execution_count": 32,
      "outputs": [
        {
          "output_type": "display_data",
          "data": {
            "image/png": "[encoded data removed]",
            "text/plain": [
              "<Figure size 720x288 with 2 Axes>"
            ]
          },
          "metadata": {
            "tags": []
          }
        }
      ]
    },
    {
      "metadata": {
        "id": "CbAdUt8ildJ3",
        "colab_type": "text"
      },
      "cell_type": "markdown",
      "source": [
        "# Multinomial Naive Bayes\n",
        "\n",
        "\n",
        "---\n",
        "\n"
      ]
    },
    {
      "metadata": {
        "id": "M6fzO3V55I59",
        "colab_type": "code",
        "colab": {}
      },
      "cell_type": "code",
      "source": [
        "ppl = Pipeline([\n",
        "    ('vect', CountVectorizer()),\n",
        "    ('tfidf', TfidfTransformer(sublinear_tf=False)),\n",
        "    ('clf', MultinomialNB(fit_prior=False)),\n",
        "])\n",
        "\n",
        "parameters = {\n",
        "  'tfidf__sublinear_tf': [True, False],\n",
        "  'clf__fit_prior':      [True, False]\n",
        "}\n"
      ],
      "execution_count": 0,
      "outputs": []
    },
    {
      "metadata": {
        "id": "Rkpe8IuFPlgP",
        "colab_type": "text"
      },
      "cell_type": "markdown",
      "source": [
        "###  Imbalanced dataset"
      ]
    },
    {
      "metadata": {
        "id": "F2Wwl6J1P_GU",
        "colab_type": "code",
        "colab": {
          "base_uri": "https://localhost:8080/",
          "height": 187
        },
        "outputId": "ebd1b37b-4c36-4155-f22f-f02aeb8ed84f"
      },
      "cell_type": "code",
      "source": [
        "gs, report = mk_clf_report(ppl, parameters, df_train, df_test)\n",
        "print(report)\n",
        "print(f'Best params:', gs.best_params_)"
      ],
      "execution_count": 35,
      "outputs": [
        {
          "output_type": "stream",
          "text": [
            "              precision    recall  f1-score   support\n",
            "\n",
            "           0       0.94      0.99      0.97     21522\n",
            "           1       0.84      0.45      0.58      2414\n",
            "\n",
            "   micro avg       0.94      0.94      0.94     23936\n",
            "   macro avg       0.89      0.72      0.77     23936\n",
            "weighted avg       0.93      0.94      0.93     23936\n",
            "\n",
            "Best params: {'clf__fit_prior': False, 'tfidf__sublinear_tf': True}\n"
          ],
          "name": "stdout"
        }
      ]
    },
    {
      "metadata": {
        "id": "smypIxxVPvso",
        "colab_type": "text"
      },
      "cell_type": "markdown",
      "source": [
        "### Balanced dataset (undersampled)"
      ]
    },
    {
      "metadata": {
        "id": "6LwknIUoQAOO",
        "colab_type": "code",
        "colab": {
          "base_uri": "https://localhost:8080/",
          "height": 187
        },
        "outputId": "547cc389-cd97-4046-adb8-52713ad6ec62"
      },
      "cell_type": "code",
      "source": [
        "gs, report = mk_clf_report(ppl, parameters, df_train_under, df_test_under)\n",
        "print(report)\n",
        "print('Best params:', gs.best_params_)"
      ],
      "execution_count": 36,
      "outputs": [
        {
          "output_type": "stream",
          "text": [
            "              precision    recall  f1-score   support\n",
            "\n",
            "           0       0.87      0.91      0.89      2436\n",
            "           1       0.90      0.86      0.88      2432\n",
            "\n",
            "   micro avg       0.89      0.89      0.89      4868\n",
            "   macro avg       0.89      0.89      0.89      4868\n",
            "weighted avg       0.89      0.89      0.89      4868\n",
            "\n",
            "Best params: {'clf__fit_prior': False, 'tfidf__sublinear_tf': True}\n"
          ],
          "name": "stdout"
        }
      ]
    },
    {
      "metadata": {
        "id": "z_LFRh2skhMX",
        "colab_type": "text"
      },
      "cell_type": "markdown",
      "source": [
        "### Balanced dataset (oversampled)"
      ]
    },
    {
      "metadata": {
        "id": "v-21y_0bdqpl",
        "colab_type": "code",
        "colab": {
          "base_uri": "https://localhost:8080/",
          "height": 187
        },
        "outputId": "8911ba58-bff7-4596-ccc7-617215aa5516"
      },
      "cell_type": "code",
      "source": [
        "gs, report = mk_clf_report(ppl, parameters, df_train_over, df_test_over)\n",
        "print(report)\n",
        "print('Best params:', gs.best_params_)"
      ],
      "execution_count": 37,
      "outputs": [
        {
          "output_type": "stream",
          "text": [
            "              precision    recall  f1-score   support\n",
            "\n",
            "           0       0.95      0.90      0.92     21408\n",
            "           1       0.90      0.95      0.93     21596\n",
            "\n",
            "   micro avg       0.93      0.93      0.93     43004\n",
            "   macro avg       0.93      0.93      0.93     43004\n",
            "weighted avg       0.93      0.93      0.93     43004\n",
            "\n",
            "Best params: {'clf__fit_prior': True, 'tfidf__sublinear_tf': True}\n"
          ],
          "name": "stdout"
        }
      ]
    },
    {
      "metadata": {
        "id": "x4E6Crz_2efs",
        "colab_type": "text"
      },
      "cell_type": "markdown",
      "source": [
        "# Bernuolli Naive Bayes\n",
        "---"
      ]
    },
    {
      "metadata": {
        "id": "z4VOBLftmKsL",
        "colab_type": "code",
        "colab": {}
      },
      "cell_type": "code",
      "source": [
        "ppl = Pipeline([\n",
        "    ('vect', CountVectorizer()),\n",
        "    ('tfidf', TfidfTransformer(use_idf=False)),\n",
        "    ('clf', BernoulliNB(binarize=0.0, fit_prior=True)),\n",
        "])\n",
        "\n",
        "parameters = {\n",
        "  'tfidf__use_idf': [True, False],\n",
        "  'clf__fit_prior': [True, False]\n",
        "}\n",
        "\n"
      ],
      "execution_count": 0,
      "outputs": []
    },
    {
      "metadata": {
        "id": "T23kr0eYRvdu",
        "colab_type": "text"
      },
      "cell_type": "markdown",
      "source": [
        "###  Imbalanced dataset"
      ]
    },
    {
      "metadata": {
        "id": "cl_RGbV9Rw11",
        "colab_type": "code",
        "colab": {
          "base_uri": "https://localhost:8080/",
          "height": 187
        },
        "outputId": "419d2263-5137-4ebe-ef0c-eb2b02a57d8b"
      },
      "cell_type": "code",
      "source": [
        "gs, report = mk_clf_report(ppl, parameters, df_train, df_test)\n",
        "print(report)\n",
        "print('Best params:', gs.best_params_)"
      ],
      "execution_count": 39,
      "outputs": [
        {
          "output_type": "stream",
          "text": [
            "              precision    recall  f1-score   support\n",
            "\n",
            "           0       0.95      0.99      0.97     21522\n",
            "           1       0.86      0.54      0.66      2414\n",
            "\n",
            "   micro avg       0.94      0.94      0.94     23936\n",
            "   macro avg       0.91      0.76      0.82     23936\n",
            "weighted avg       0.94      0.94      0.94     23936\n",
            "\n",
            "Best params: {'clf__fit_prior': False, 'tfidf__use_idf': True}\n"
          ],
          "name": "stdout"
        }
      ]
    },
    {
      "metadata": {
        "id": "bHV8KxoMRw_u",
        "colab_type": "text"
      },
      "cell_type": "markdown",
      "source": [
        "### Balanced dataset (undersampled)"
      ]
    },
    {
      "metadata": {
        "id": "_9Y8X2ZgRyVT",
        "colab_type": "code",
        "colab": {
          "base_uri": "https://localhost:8080/",
          "height": 187
        },
        "outputId": "1245c4e5-bc05-4651-f798-8fe1bf56b251"
      },
      "cell_type": "code",
      "source": [
        "gs, report = mk_clf_report(ppl, parameters, df_train_under, df_test_under)\n",
        "print(report)\n",
        "print('Best params:', gs.best_params_)"
      ],
      "execution_count": 40,
      "outputs": [
        {
          "output_type": "stream",
          "text": [
            "              precision    recall  f1-score   support\n",
            "\n",
            "           0       0.87      0.54      0.67      2436\n",
            "           1       0.67      0.92      0.77      2432\n",
            "\n",
            "   micro avg       0.73      0.73      0.73      4868\n",
            "   macro avg       0.77      0.73      0.72      4868\n",
            "weighted avg       0.77      0.73      0.72      4868\n",
            "\n",
            "Best params: {'clf__fit_prior': True, 'tfidf__use_idf': True}\n"
          ],
          "name": "stdout"
        }
      ]
    },
    {
      "metadata": {
        "id": "9yGPY0sTmsog",
        "colab_type": "text"
      },
      "cell_type": "markdown",
      "source": [
        "### Balanced dataset (oversampled)"
      ]
    },
    {
      "metadata": {
        "id": "zkrWND6mmsz9",
        "colab_type": "code",
        "colab": {
          "base_uri": "https://localhost:8080/",
          "height": 187
        },
        "outputId": "dec51250-54da-4aa2-fac0-93d16480d0b3"
      },
      "cell_type": "code",
      "source": [
        "gs, report = mk_clf_report(ppl, parameters, df_train_over, df_test_over)\n",
        "print(report)\n",
        "print('Best params:', gs.best_params_)"
      ],
      "execution_count": 41,
      "outputs": [
        {
          "output_type": "stream",
          "text": [
            "              precision    recall  f1-score   support\n",
            "\n",
            "           0       0.93      0.58      0.72     21408\n",
            "           1       0.70      0.96      0.81     21596\n",
            "\n",
            "   micro avg       0.77      0.77      0.77     43004\n",
            "   macro avg       0.81      0.77      0.76     43004\n",
            "weighted avg       0.81      0.77      0.76     43004\n",
            "\n",
            "Best params: {'clf__fit_prior': True, 'tfidf__use_idf': True}\n"
          ],
          "name": "stdout"
        }
      ]
    },
    {
      "metadata": {
        "id": "-9q7IznKqUm-",
        "colab_type": "text"
      },
      "cell_type": "markdown",
      "source": [
        "# SVM & Logistic Regression\n",
        "---"
      ]
    },
    {
      "metadata": {
        "id": "F5eeKGF1Ano6",
        "colab_type": "code",
        "colab": {}
      },
      "cell_type": "code",
      "source": [
        "ppl = Pipeline([\n",
        "    ('l0', CountVectorizer()),\n",
        "    ('l1', TfidfTransformer(use_idf=True)),\n",
        "    ('l3', SGDClassifier(\n",
        "        loss='hinge', \n",
        "        penalty='l2', \n",
        "        alpha=1e-5, \n",
        "        random_state=17, \n",
        "        max_iter=10, \n",
        "        tol=None,\n",
        "        early_stopping=True\n",
        "    )),\n",
        "])\n",
        "parameters = {\n",
        "  'l1__use_idf': [True],\n",
        "  'l3__alpha': [1e-5, 1e-4],\n",
        "  'l3__loss': ['hinge', 'log'],\n",
        "  'l3__penalty': ['l2', 'l1']\n",
        "}\n"
      ],
      "execution_count": 0,
      "outputs": []
    },
    {
      "metadata": {
        "id": "zPoAPZJVSNei",
        "colab_type": "text"
      },
      "cell_type": "markdown",
      "source": [
        "###  Imbalanced dataset"
      ]
    },
    {
      "metadata": {
        "id": "OE_SlhoDSONy",
        "colab_type": "code",
        "colab": {
          "base_uri": "https://localhost:8080/",
          "height": 204
        },
        "outputId": "8fd1cdd2-481c-440a-b9cf-6dfd1a8cf79e"
      },
      "cell_type": "code",
      "source": [
        "gs, report = mk_clf_report(ppl, parameters, df_train, df_test)\n",
        "print(report)\n",
        "print('Best params:', gs.best_params_)\n",
        "dump(gs.best_estimator_, 'SGDClassifier.joblib')"
      ],
      "execution_count": 169,
      "outputs": [
        {
          "output_type": "stream",
          "text": [
            "              precision    recall  f1-score   support\n",
            "\n",
            "           0       0.96      0.99      0.98     21473\n",
            "           1       0.91      0.66      0.77      2463\n",
            "\n",
            "   micro avg       0.96      0.96      0.96     23936\n",
            "   macro avg       0.94      0.83      0.87     23936\n",
            "weighted avg       0.96      0.96      0.96     23936\n",
            "\n",
            "Best params: {'l1__use_idf': True, 'l3__alpha': 1e-05, 'l3__loss': 'hinge', 'l3__penalty': 'l2'}\n"
          ],
          "name": "stdout"
        },
        {
          "output_type": "execute_result",
          "data": {
            "text/plain": [
              "['SGDClassifier.joblib']"
            ]
          },
          "metadata": {
            "tags": []
          },
          "execution_count": 169
        }
      ]
    },
    {
      "metadata": {
        "id": "fi_qOcRQSOY0",
        "colab_type": "text"
      },
      "cell_type": "markdown",
      "source": [
        "### Balanced dataset (undersampled)"
      ]
    },
    {
      "metadata": {
        "id": "O09Of5BD2tsQ",
        "colab_type": "code",
        "colab": {
          "base_uri": "https://localhost:8080/",
          "height": 221
        },
        "outputId": "9e644563-a2a9-49c5-f048-988e19f2db94"
      },
      "cell_type": "code",
      "source": [
        "gs, report = mk_clf_report(ppl, parameters, df_train_under, df_test_under)\n",
        "print(report)\n",
        "print('Best params:', gs.best_params_)\n",
        "\n",
        "dump(gs.best_estimator_, 'SGDClassifier_balanced_under.joblib')\n"
      ],
      "execution_count": 159,
      "outputs": [
        {
          "output_type": "stream",
          "text": [
            "              precision    recall  f1-score   support\n",
            "\n",
            "           0       0.89      0.93      0.91      2436\n",
            "           1       0.93      0.88      0.90      2432\n",
            "\n",
            "   micro avg       0.90      0.90      0.90      4868\n",
            "   macro avg       0.91      0.90      0.90      4868\n",
            "weighted avg       0.91      0.90      0.90      4868\n",
            "\n",
            "Best params: {'l1__use_idf': True, 'l3__alpha': 1e-05, 'l3__loss': 'log', 'l3__penalty': 'l1'}\n",
            "0-1 loss for sample of only class \"0\": 0.9271638832293642\n"
          ],
          "name": "stdout"
        },
        {
          "output_type": "execute_result",
          "data": {
            "text/plain": [
              "['SGDClassifier_balanced.joblib']"
            ]
          },
          "metadata": {
            "tags": []
          },
          "execution_count": 159
        }
      ]
    },
    {
      "metadata": {
        "id": "trFSuHJGmxvv",
        "colab_type": "text"
      },
      "cell_type": "markdown",
      "source": [
        "### Balanced dataset (oversampled)"
      ]
    },
    {
      "metadata": {
        "id": "jK-U4gjzmx4e",
        "colab_type": "code",
        "colab": {
          "base_uri": "https://localhost:8080/",
          "height": 204
        },
        "outputId": "9ad333cc-4621-49e1-ee13-3eaba16e4db0"
      },
      "cell_type": "code",
      "source": [
        "gs, report = mk_clf_report(ppl, parameters, df_train_over, df_test_over)\n",
        "print(report)\n",
        "print('Best params:', gs.best_params_)\n",
        "dump(gs.best_estimator_, 'SGDClassifier_balanced_over.joblib')"
      ],
      "execution_count": 43,
      "outputs": [
        {
          "output_type": "stream",
          "text": [
            "              precision    recall  f1-score   support\n",
            "\n",
            "           0       0.98      0.95      0.97     21408\n",
            "           1       0.96      0.98      0.97     21596\n",
            "\n",
            "   micro avg       0.97      0.97      0.97     43004\n",
            "   macro avg       0.97      0.97      0.97     43004\n",
            "weighted avg       0.97      0.97      0.97     43004\n",
            "\n",
            "Best params: {'l1__use_idf': True, 'l3__alpha': 1e-05, 'l3__loss': 'hinge', 'l3__penalty': 'l2'}\n"
          ],
          "name": "stdout"
        },
        {
          "output_type": "execute_result",
          "data": {
            "text/plain": [
              "['SGDClassifier_balanced_over.joblib']"
            ]
          },
          "metadata": {
            "tags": []
          },
          "execution_count": 43
        }
      ]
    },
    {
      "metadata": {
        "id": "OFHOtg4erIKW",
        "colab_type": "code",
        "colab": {}
      },
      "cell_type": "code",
      "source": [
        ""
      ],
      "execution_count": 0,
      "outputs": []
    },
    {
      "metadata": {
        "id": "4ezoaAh5xCWn",
        "colab_type": "text"
      },
      "cell_type": "markdown",
      "source": [
        "# Conclusions\n",
        "\n",
        "Having that both classes are equally important for us we prefer to take SVM model as a baseline. We take version trained on oversampled dataset.\n"
      ]
    }
  ]
}