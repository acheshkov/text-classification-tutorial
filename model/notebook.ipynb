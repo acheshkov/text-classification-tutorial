{
  "nbformat": 4,
  "nbformat_minor": 0,
  "metadata": {
    "colab": {
      "name": "Text Classification",
      "version": "0.3.2",
      "provenance": [],
      "toc_visible": true
    },
    "kernelspec": {
      "name": "python3",
      "display_name": "Python 3"
    }
  },
  "cells": [
    {
      "metadata": {
        "id": "dOQeAqJAeSNv",
        "colab_type": "code",
        "outputId": "4d87b00e-bc42-4da4-bcd4-5a5dfb05e6f6",
        "colab": {
          "base_uri": "https://localhost:8080/",
          "height": 68
        }
      },
      "cell_type": "code",
      "source": [
        "%matplotlib inline\n",
        "\n",
        "import pandas as pd\n",
        "import numpy as np\n",
        "import nltk\n",
        "from nltk.corpus import stopwords\n",
        "import re\n",
        "import warnings\n",
        "from joblib import dump, load\n",
        "from typing import List, Any, Dict\n",
        "from sklearn.metrics import classification_report, confusion_matrix\n",
        "from sklearn.base import TransformerMixin\n",
        "from sklearn.feature_extraction.text import CountVectorizer\n",
        "from sklearn.feature_extraction.text import TfidfTransformer\n",
        "from sklearn.naive_bayes import MultinomialNB, BernoulliNB\n",
        "from sklearn.pipeline import Pipeline\n",
        "from sklearn.model_selection import train_test_split\n",
        "from sklearn.model_selection import GridSearchCV\n",
        "from sklearn.linear_model import SGDClassifier\n",
        "from sklearn.decomposition import TruncatedSVD\n",
        "from sklearn.preprocessing import FunctionTransformer\n",
        "from sklearn.feature_selection import SelectFromModel\n",
        "import matplotlib.pyplot as plt\n",
        "\n",
        "\n",
        "# to mute warnings\n",
        "def warn(*args, **kwargs):\n",
        "  pass\n",
        "\n",
        "warnings.warn = warn\n",
        "\n",
        "nltk.download('stopwords')\n",
        "\n",
        "\n",
        "\n"
      ],
      "execution_count": 2,
      "outputs": [
        {
          "output_type": "stream",
          "text": [
            "[nltk_data] Downloading package stopwords to /root/nltk_data...\n",
            "[nltk_data]   Unzipping corpora/stopwords.zip.\n"
          ],
          "name": "stdout"
        },
        {
          "output_type": "execute_result",
          "data": {
            "text/plain": [
              "True"
            ]
          },
          "metadata": {
            "tags": []
          },
          "execution_count": 2
        }
      ]
    },
    {
      "metadata": {
        "id": "OF3v57a4teQC",
        "colab_type": "text"
      },
      "cell_type": "markdown",
      "source": [
        "Loading dataset. You can use your own but make sure that column names are match.\n"
      ]
    },
    {
      "metadata": {
        "id": "FJ6o9UoWeoK_",
        "colab_type": "code",
        "outputId": "cb6876ce-4ed6-478a-dac6-ff70919889cd",
        "colab": {
          "base_uri": "https://localhost:8080/",
          "height": 204
        }
      },
      "cell_type": "code",
      "source": [
        "df = pd.read_csv('./dataset_for_assignment.csv')\n",
        "df.head()"
      ],
      "execution_count": 3,
      "outputs": [
        {
          "output_type": "execute_result",
          "data": {
            "text/html": [
              "<div>\n",
              "<style scoped>\n",
              "    .dataframe tbody tr th:only-of-type {\n",
              "        vertical-align: middle;\n",
              "    }\n",
              "\n",
              "    .dataframe tbody tr th {\n",
              "        vertical-align: top;\n",
              "    }\n",
              "\n",
              "    .dataframe thead th {\n",
              "        text-align: right;\n",
              "    }\n",
              "</style>\n",
              "<table border=\"1\" class=\"dataframe\">\n",
              "  <thead>\n",
              "    <tr style=\"text-align: right;\">\n",
              "      <th></th>\n",
              "      <th>comment_text</th>\n",
              "      <th>target</th>\n",
              "    </tr>\n",
              "  </thead>\n",
              "  <tbody>\n",
              "    <tr>\n",
              "      <th>0</th>\n",
              "      <td>Explanation\\nWhy the edits made under my usern...</td>\n",
              "      <td>0</td>\n",
              "    </tr>\n",
              "    <tr>\n",
              "      <th>1</th>\n",
              "      <td>D'aww! He matches this background colour I'm s...</td>\n",
              "      <td>0</td>\n",
              "    </tr>\n",
              "    <tr>\n",
              "      <th>2</th>\n",
              "      <td>Hey man, I'm really not trying to edit war. It...</td>\n",
              "      <td>0</td>\n",
              "    </tr>\n",
              "    <tr>\n",
              "      <th>3</th>\n",
              "      <td>\"\\nMore\\nI can't make any real suggestions on ...</td>\n",
              "      <td>0</td>\n",
              "    </tr>\n",
              "    <tr>\n",
              "      <th>4</th>\n",
              "      <td>You, sir, are my hero. Any chance you remember...</td>\n",
              "      <td>0</td>\n",
              "    </tr>\n",
              "  </tbody>\n",
              "</table>\n",
              "</div>"
            ],
            "text/plain": [
              "                                        comment_text  target\n",
              "0  Explanation\\nWhy the edits made under my usern...       0\n",
              "1  D'aww! He matches this background colour I'm s...       0\n",
              "2  Hey man, I'm really not trying to edit war. It...       0\n",
              "3  \"\\nMore\\nI can't make any real suggestions on ...       0\n",
              "4  You, sir, are my hero. Any chance you remember...       0"
            ]
          },
          "metadata": {
            "tags": []
          },
          "execution_count": 3
        }
      ]
    },
    {
      "metadata": {
        "id": "e6upJ7zKgdrv",
        "colab_type": "code",
        "outputId": "4aa81827-7ce4-4b00-d8d4-83469d154cfc",
        "colab": {
          "base_uri": "https://localhost:8080/",
          "height": 310
        }
      },
      "cell_type": "code",
      "source": [
        "groups = df.groupby(['target']).agg({'target': 'count'}).to_dict('index')\n",
        "print(\"Examples of class '1' is\", groups[1]['target'], \". Examples of class '0' is\", groups[0]['target'])\n",
        "print(\"Ratio of classes: \", groups[1]['target'] / groups[0]['target'])\n",
        "df.target.value_counts().plot(kind='bar', title='Classes ratio in original dataset');"
      ],
      "execution_count": 4,
      "outputs": [
        {
          "output_type": "stream",
          "text": [
            "Examples of class '1' is 16225 . Examples of class '0' is 143346\n",
            "Ratio of classes:  0.1131876717871444\n"
          ],
          "name": "stdout"
        },
        {
          "output_type": "display_data",
          "data": {
            "image/png": "[encoded data removed]",
            "text/plain": [
              "<Figure size 432x288 with 1 Axes>"
            ]
          },
          "metadata": {
            "tags": []
          }
        }
      ]
    },
    {
      "metadata": {
        "id": "zcClfNmwZs_o",
        "colab_type": "text"
      },
      "cell_type": "markdown",
      "source": [
        "We're going to use **F1** metric to compare and select model."
      ]
    },
    {
      "metadata": {
        "id": "G_XqbIufY1Gy",
        "colab_type": "text"
      },
      "cell_type": "markdown",
      "source": [
        "# Text pre-processing"
      ]
    },
    {
      "metadata": {
        "id": "BITu1tdI2ZLm",
        "colab_type": "code",
        "outputId": "b4a5ecbe-44f7-4f02-b1e3-1d391b3f2288",
        "colab": {
          "base_uri": "https://localhost:8080/",
          "height": 204
        }
      },
      "cell_type": "code",
      "source": [
        "REPLACE_BY_SPACE_RE = re.compile('[/(){}\\[\\]\\|@,;\\\\n]')\n",
        "BAD_SYMBOLS_RE = re.compile('[^0-9a-z #+_]')\n",
        "STOPWORDS = set(stopwords.words('english'))\n",
        "\n",
        "\n",
        "def clean_text(text: str) -> str:\n",
        "    '''Clean text'''\n",
        "       \n",
        "    text = text.lower() # lowercase text\n",
        "    text = REPLACE_BY_SPACE_RE.sub(' ', text)\n",
        "    text = BAD_SYMBOLS_RE.sub('', text)\n",
        "    text = ' '.join(word for word in text.split() if word not in STOPWORDS)\n",
        "    return text\n",
        "    \n",
        "df['comment_text'] = df['comment_text'].apply(clean_text)\n",
        "df.head()\n"
      ],
      "execution_count": 5,
      "outputs": [
        {
          "output_type": "execute_result",
          "data": {
            "text/html": [
              "<div>\n",
              "<style scoped>\n",
              "    .dataframe tbody tr th:only-of-type {\n",
              "        vertical-align: middle;\n",
              "    }\n",
              "\n",
              "    .dataframe tbody tr th {\n",
              "        vertical-align: top;\n",
              "    }\n",
              "\n",
              "    .dataframe thead th {\n",
              "        text-align: right;\n",
              "    }\n",
              "</style>\n",
              "<table border=\"1\" class=\"dataframe\">\n",
              "  <thead>\n",
              "    <tr style=\"text-align: right;\">\n",
              "      <th></th>\n",
              "      <th>comment_text</th>\n",
              "      <th>target</th>\n",
              "    </tr>\n",
              "  </thead>\n",
              "  <tbody>\n",
              "    <tr>\n",
              "      <th>0</th>\n",
              "      <td>explanation edits made username hardcore metal...</td>\n",
              "      <td>0</td>\n",
              "    </tr>\n",
              "    <tr>\n",
              "      <th>1</th>\n",
              "      <td>daww matches background colour im seemingly st...</td>\n",
              "      <td>0</td>\n",
              "    </tr>\n",
              "    <tr>\n",
              "      <th>2</th>\n",
              "      <td>hey man im really trying edit war guy constant...</td>\n",
              "      <td>0</td>\n",
              "    </tr>\n",
              "    <tr>\n",
              "      <th>3</th>\n",
              "      <td>cant make real suggestions improvement wondere...</td>\n",
              "      <td>0</td>\n",
              "    </tr>\n",
              "    <tr>\n",
              "      <th>4</th>\n",
              "      <td>sir hero chance remember page thats</td>\n",
              "      <td>0</td>\n",
              "    </tr>\n",
              "  </tbody>\n",
              "</table>\n",
              "</div>"
            ],
            "text/plain": [
              "                                        comment_text  target\n",
              "0  explanation edits made username hardcore metal...       0\n",
              "1  daww matches background colour im seemingly st...       0\n",
              "2  hey man im really trying edit war guy constant...       0\n",
              "3  cant make real suggestions improvement wondere...       0\n",
              "4                sir hero chance remember page thats       0"
            ]
          },
          "metadata": {
            "tags": []
          },
          "execution_count": 5
        }
      ]
    },
    {
      "metadata": {
        "id": "zLR30j_1ieBf",
        "colab_type": "text"
      },
      "cell_type": "markdown",
      "source": [
        "## Train and test dataset split\n",
        "\n",
        "---\n",
        "\n"
      ]
    },
    {
      "metadata": {
        "id": "xcdMk7Pf4q7g",
        "colab_type": "code",
        "colab": {}
      },
      "cell_type": "code",
      "source": [
        "df_train, df_test = train_test_split(df, shuffle=True, test_size=0.15)\n",
        "\n",
        "def mk_clf_report(\n",
        "    pipeline: Pipeline, \n",
        "    parameters: Dict[str, Any], \n",
        "    df_train: pd.DataFrame, \n",
        "    df_test: pd.DataFrame,\n",
        "    scoring='f1'\n",
        "):\n",
        "  ''' Do grid search using provided pipeline and parameters'''  \n",
        "  X = df_train.comment_text.tolist()\n",
        "  Y = df_train.target.tolist()\n",
        "  \n",
        "  gs = GridSearchCV(\n",
        "      pipeline, \n",
        "      parameters, \n",
        "      cv=5, \n",
        "      iid=False, \n",
        "      n_jobs=-1, \n",
        "      scoring=scoring\n",
        "  )\n",
        "  \n",
        "  gs = gs.fit(X, Y)\n",
        "  \n",
        "  # test\n",
        "  predicted = gs.predict(df_test.comment_text.tolist())\n",
        "  report = classification_report(\n",
        "      y_true=df_test.target.tolist(), \n",
        "      y_pred=predicted\n",
        "  )\n",
        "\n",
        "  return gs, report\n",
        "  \n"
      ],
      "execution_count": 0,
      "outputs": []
    },
    {
      "metadata": {
        "id": "CbAdUt8ildJ3",
        "colab_type": "text"
      },
      "cell_type": "markdown",
      "source": [
        "# Multinomial Naive Bayes\n",
        "\n",
        "\n",
        "---\n",
        "\n"
      ]
    },
    {
      "metadata": {
        "id": "M6fzO3V55I59",
        "colab_type": "code",
        "colab": {}
      },
      "cell_type": "code",
      "source": [
        "ppl = Pipeline([\n",
        "    ('vect', CountVectorizer(ngram_range=(1,1))),\n",
        "    ('tfidf', TfidfTransformer(sublinear_tf=False)),\n",
        "    ('clf', MultinomialNB(fit_prior=False)),\n",
        "])\n",
        "\n",
        "parameters = {\n",
        "  'vect__ngram_range': [(1,1), (1,2), (2,2)],\n",
        "  'tfidf__sublinear_tf': [True, False],\n",
        "  'clf__fit_prior':      [True, False]\n",
        "}\n"
      ],
      "execution_count": 0,
      "outputs": []
    },
    {
      "metadata": {
        "id": "F2Wwl6J1P_GU",
        "colab_type": "code",
        "colab": {
          "base_uri": "https://localhost:8080/",
          "height": 204
        },
        "outputId": "e467a695-c9f2-4492-8f9d-7c19f71e51e0"
      },
      "cell_type": "code",
      "source": [
        "gs, report = mk_clf_report(ppl, parameters, df_train, df_test)\n",
        "print(report)\n",
        "print('Best params:', gs.best_params_)\n",
        "print('Best score:', gs.best_score_)"
      ],
      "execution_count": 125,
      "outputs": [
        {
          "output_type": "stream",
          "text": [
            "              precision    recall  f1-score   support\n",
            "\n",
            "           0       0.94      0.99      0.96     21493\n",
            "           1       0.83      0.44      0.58      2443\n",
            "\n",
            "   micro avg       0.93      0.93      0.93     23936\n",
            "   macro avg       0.89      0.72      0.77     23936\n",
            "weighted avg       0.93      0.93      0.92     23936\n",
            "\n",
            "Best params: {'clf__fit_prior': False, 'tfidf__sublinear_tf': False, 'vect__ngram_range': (1, 1)}\n",
            "Best score: 0.5722973218582064\n"
          ],
          "name": "stdout"
        }
      ]
    },
    {
      "metadata": {
        "id": "x4E6Crz_2efs",
        "colab_type": "text"
      },
      "cell_type": "markdown",
      "source": [
        "# Bernuolli Naive Bayes\n",
        "---"
      ]
    },
    {
      "metadata": {
        "id": "z4VOBLftmKsL",
        "colab_type": "code",
        "colab": {}
      },
      "cell_type": "code",
      "source": [
        "ppl = Pipeline([\n",
        "    ('vect', CountVectorizer(ngram_range=(1,1))),\n",
        "    ('tfidf', TfidfTransformer(use_idf=True, sublinear_tf=False)),\n",
        "    ('clf', BernoulliNB(binarize=0.0, fit_prior=True)),\n",
        "])\n",
        "\n",
        "parameters = {\n",
        "  'vect__ngram_range': [(1,1), (1,2), (2,2)],\n",
        "  'tfidf__sublinear_tf': [True, False],\n",
        "  'clf__fit_prior': [True, False]\n",
        "}\n",
        "\n"
      ],
      "execution_count": 0,
      "outputs": []
    },
    {
      "metadata": {
        "id": "cl_RGbV9Rw11",
        "colab_type": "code",
        "colab": {
          "base_uri": "https://localhost:8080/",
          "height": 204
        },
        "outputId": "e8f43eac-687b-444c-d1cc-07d00cb44370"
      },
      "cell_type": "code",
      "source": [
        "gs, report = mk_clf_report(ppl, parameters, df_train, df_test)\n",
        "print(report)\n",
        "print('Best params:', gs.best_params_)\n",
        "print('Best score:', gs.best_score_)"
      ],
      "execution_count": 127,
      "outputs": [
        {
          "output_type": "stream",
          "text": [
            "              precision    recall  f1-score   support\n",
            "\n",
            "           0       0.95      0.99      0.97     21493\n",
            "           1       0.85      0.55      0.67      2443\n",
            "\n",
            "   micro avg       0.94      0.94      0.94     23936\n",
            "   macro avg       0.90      0.77      0.82     23936\n",
            "weighted avg       0.94      0.94      0.94     23936\n",
            "\n",
            "Best params: {'clf__fit_prior': False, 'tfidf__sublinear_tf': True, 'vect__ngram_range': (1, 1)}\n",
            "Best score: 0.628941406844671\n"
          ],
          "name": "stdout"
        }
      ]
    },
    {
      "metadata": {
        "id": "-9q7IznKqUm-",
        "colab_type": "text"
      },
      "cell_type": "markdown",
      "source": [
        "# SVM & Logistic Regression\n",
        "---"
      ]
    },
    {
      "metadata": {
        "id": "F5eeKGF1Ano6",
        "colab_type": "code",
        "colab": {}
      },
      "cell_type": "code",
      "source": [
        "ppl = Pipeline([\n",
        "    ('l0', CountVectorizer(ngram_range=(1,1))),\n",
        "    ('l1', TfidfTransformer(use_idf=True, sublinear_tf=True)),\n",
        "    ('l3', SGDClassifier(\n",
        "        loss='hinge', \n",
        "        penalty='l2', \n",
        "        alpha=1e-5, \n",
        "        random_state=17, \n",
        "        max_iter=1000, \n",
        "        class_weight=None\n",
        "    )),\n",
        "])\n",
        "parameters = {\n",
        "  'l0__ngram_range': [(1,1), (1,2)],\n",
        "  #'l1__sublinear_tf': [True, False],\n",
        "  #'l3__alpha': [1e-5, 1e-4],\n",
        "  'l3__loss': ['hinge', 'log'],\n",
        "  #'l3__penalty': ['l2', 'l1'],\n",
        "  'l3__class_weight': ['balanced', None]\n",
        "}\n"
      ],
      "execution_count": 0,
      "outputs": []
    },
    {
      "metadata": {
        "id": "OE_SlhoDSONy",
        "colab_type": "code",
        "colab": {
          "base_uri": "https://localhost:8080/",
          "height": 221
        },
        "outputId": "bf8a2b61-bc3f-494c-d81a-576d24b9875d"
      },
      "cell_type": "code",
      "source": [
        "gs, report = mk_clf_report(ppl, parameters, df_train, df_test)\n",
        "print(report)\n",
        "print('Best params:', gs.best_params_)\n",
        "print('Best score:', gs.best_score_)\n",
        "dump(gs.best_estimator_, 'SGDClassifier.joblib')"
      ],
      "execution_count": 8,
      "outputs": [
        {
          "output_type": "stream",
          "text": [
            "              precision    recall  f1-score   support\n",
            "\n",
            "           0       0.98      0.98      0.98     21484\n",
            "           1       0.79      0.79      0.79      2452\n",
            "\n",
            "   micro avg       0.96      0.96      0.96     23936\n",
            "   macro avg       0.88      0.88      0.88     23936\n",
            "weighted avg       0.96      0.96      0.96     23936\n",
            "\n",
            "Best params: {'l0__ngram_range': (1, 2), 'l3__class_weight': 'balanced', 'l3__loss': 'hinge'}\n",
            "Best score: 0.7942061412858454\n"
          ],
          "name": "stdout"
        },
        {
          "output_type": "execute_result",
          "data": {
            "text/plain": [
              "['SGDClassifier.joblib']"
            ]
          },
          "metadata": {
            "tags": []
          },
          "execution_count": 8
        }
      ]
    },
    {
      "metadata": {
        "id": "4ezoaAh5xCWn",
        "colab_type": "text"
      },
      "cell_type": "markdown",
      "source": [
        "# Conclusions\n",
        "\n",
        "For selected metric we take SVM model as best we got.\n"
      ]
    }
  ]
}